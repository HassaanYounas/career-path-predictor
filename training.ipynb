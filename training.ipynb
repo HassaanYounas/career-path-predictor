{
 "cells": [
  {
   "cell_type": "markdown",
   "metadata": {},
   "source": [
    "### All imports in one place"
   ]
  },
  {
   "cell_type": "code",
   "execution_count": 36,
   "metadata": {},
   "outputs": [],
   "source": [
    "import pickle\n",
    "import warnings\n",
    "import numpy as np\n",
    "import pandas as pd\n",
    "\n",
    "from sklearn.preprocessing import StandardScaler\n",
    "from sklearn.model_selection import train_test_split\n",
    "\n",
    "from sklearn.svm import SVC\n",
    "from sklearn.tree import DecisionTreeClassifier\n",
    "from sklearn.neighbors import KNeighborsClassifier\n",
    "from sklearn.ensemble import RandomForestClassifier\n",
    "from sklearn.linear_model import LogisticRegression"
   ]
  },
  {
   "cell_type": "markdown",
   "metadata": {},
   "source": [
    "### Ignoring warnings"
   ]
  },
  {
   "cell_type": "code",
   "execution_count": 37,
   "metadata": {},
   "outputs": [],
   "source": [
    "warnings.filterwarnings('ignore')"
   ]
  },
  {
   "cell_type": "markdown",
   "metadata": {},
   "source": [
    "### Loading dataset and labels"
   ]
  },
  {
   "cell_type": "code",
   "execution_count": 38,
   "metadata": {},
   "outputs": [],
   "source": [
    "dataset = pd.read_csv('./corpora/dataset.csv')\n",
    "role = dataset['Role']\n",
    "data = { 'Role': role }\n",
    "labels = pd.DataFrame(data)\n",
    "dataset.drop('Role', axis=1, inplace=True)"
   ]
  },
  {
   "cell_type": "markdown",
   "metadata": {},
   "source": [
    "### Pre-processing 1"
   ]
  },
  {
   "cell_type": "code",
   "execution_count": 39,
   "metadata": {},
   "outputs": [],
   "source": [
    "dataset = dataset.replace(['yes'], 1)\n",
    "dataset = dataset.replace(['no'], 0)\n",
    "dataset = dataset.replace(['excellent'], 2)\n",
    "dataset = dataset.replace(['medium'], 1)\n",
    "dataset = dataset.replace(['poor'], 0)\n",
    "\n",
    "dataset['CGPA'] = dataset['CGPA'].fillna(0)\n",
    "dataset['Did you do webdev during college time ?'] = dataset['Did you do webdev during college time ?'].fillna(0)\n",
    "dataset['Are you good at Data analysis ?'] = dataset['Are you good at Data analysis ?'].fillna(0)\n",
    "dataset['reading and writing skills'] = dataset['reading and writing skills'].fillna(0)\n",
    "dataset['Are you a tech person ?'] = dataset['Are you a tech person ?'].fillna(0)\n",
    "dataset['Were you in a non tech society ?'] = dataset['Were you in a non tech society ?'].fillna(0)\n",
    "dataset['Are you good at coding ?'] = dataset['Are you good at coding ?'].fillna(0)\n",
    "dataset['Have you developed mobile apps ?'] = dataset['Have you developed mobile apps ?'].fillna(0)\n",
    "dataset['Are you good at communication ?'] = dataset['Are you good at communication ?'].fillna(0)\n",
    "dataset['Do you have specialization in security'] = dataset['Do you have specialization in security'].fillna(0)\n",
    "dataset['Have you ever handled large databases ?'] = dataset['Have you ever handled large databases ?'].fillna(0)\n",
    "dataset['Do you have knowlege of statistics and data science?'] = dataset['Do you have knowlege of statistics and data science?'].fillna(0)\n",
    "dataset['Are you proficient in English ?'] = dataset['Are you proficient in English ?'].fillna(0)\n",
    "dataset['Have you ever managed some event?'] = dataset['Have you ever managed some event?'].fillna(0)\n",
    "dataset['Do you write technical blogs ?'] = dataset['Do you write technical blogs ?'].fillna(0)\n",
    "dataset['Are you into marketing ?'] = dataset['Are you into marketing ?'].fillna(0)\n",
    "dataset['Are you a ML expert ?'] = dataset['Are you a ML expert ?'].fillna(0)\n",
    "dataset['Do you have a lot of connections ?'] = dataset['Do you have a lot of connections ?'].fillna(0)\n",
    "dataset['Have you ever built live project ?'] = dataset['Have you ever built live project ?'].fillna(0)"
   ]
  },
  {
   "cell_type": "markdown",
   "metadata": {},
   "source": [
    "### Pre-processsing 2"
   ]
  },
  {
   "cell_type": "code",
   "execution_count": 40,
   "metadata": {},
   "outputs": [],
   "source": [
    "standardScaler = StandardScaler()\n",
    "columns_to_scale = ['CGPA']\n",
    "dataset[columns_to_scale] = standardScaler.fit_transform(dataset[columns_to_scale])"
   ]
  },
  {
   "cell_type": "markdown",
   "metadata": {},
   "source": [
    "### Creating the training datasets"
   ]
  },
  {
   "cell_type": "code",
   "execution_count": 41,
   "metadata": {},
   "outputs": [],
   "source": [
    "x_train, y_train = dataset, labels"
   ]
  },
  {
   "cell_type": "markdown",
   "metadata": {},
   "source": [
    "### K-Nearest Neighbors Classifier with K = 20"
   ]
  },
  {
   "cell_type": "code",
   "execution_count": 42,
   "metadata": {},
   "outputs": [],
   "source": [
    "knn_classifier = KNeighborsClassifier(n_neighbors=20)\n",
    "knn_classifier.fit(x_train, y_train)\n",
    "pickle.dump(knn_classifier, open('models/knn_classifier.sav', 'wb'))"
   ]
  },
  {
   "cell_type": "markdown",
   "metadata": {},
   "source": [
    "### Decision Tree Classifier with as many features as columns"
   ]
  },
  {
   "cell_type": "code",
   "execution_count": 43,
   "metadata": {},
   "outputs": [],
   "source": [
    "dt_classifier = DecisionTreeClassifier(max_features=len(dataset.columns), random_state=0)\n",
    "dt_classifier.fit(x_train, y_train)\n",
    "pickle.dump(dt_classifier, open('models/dt_classifier.sav', 'wb'))"
   ]
  },
  {
   "cell_type": "markdown",
   "metadata": {},
   "source": [
    "### Support Vector Classifier with a linear kernel"
   ]
  },
  {
   "cell_type": "code",
   "execution_count": 44,
   "metadata": {},
   "outputs": [],
   "source": [
    "svc_classifier = SVC(kernel='linear')\n",
    "svc_classifier.fit(x_train, y_train)\n",
    "pickle.dump(svc_classifier, open('models/svc_classifier.sav', 'wb'))"
   ]
  },
  {
   "cell_type": "markdown",
   "metadata": {},
   "source": [
    "### Logistic Regression classifier"
   ]
  },
  {
   "cell_type": "code",
   "execution_count": 45,
   "metadata": {},
   "outputs": [],
   "source": [
    "lg_classifier = LogisticRegression()\n",
    "lg_classifier.fit(x_train, y_train)\n",
    "pickle.dump(lg_classifier, open('models/lg_classifier.sav', 'wb'))"
   ]
  },
  {
   "cell_type": "markdown",
   "metadata": {},
   "source": [
    "### Random Forest Classifier with 1000 estimators"
   ]
  },
  {
   "cell_type": "code",
   "execution_count": 46,
   "metadata": {},
   "outputs": [],
   "source": [
    "rf_classifier = RandomForestClassifier(n_estimators=1000, random_state=0)\n",
    "rf_classifier.fit(x_train, y_train)\n",
    "pickle.dump(rf_classifier, open('models/rf_classifier.sav', 'wb'))"
   ]
  }
 ],
 "metadata": {
  "kernelspec": {
   "display_name": "career-path-venv",
   "language": "python",
   "name": "career-path-venv"
  },
  "language_info": {
   "codemirror_mode": {
    "name": "ipython",
    "version": 3
   },
   "file_extension": ".py",
   "mimetype": "text/x-python",
   "name": "python",
   "nbconvert_exporter": "python",
   "pygments_lexer": "ipython3",
   "version": "3.6.1"
  }
 },
 "nbformat": 4,
 "nbformat_minor": 4
}
